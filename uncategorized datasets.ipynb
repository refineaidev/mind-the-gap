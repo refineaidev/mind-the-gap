{
 "cells": [
  {
   "cell_type": "code",
   "execution_count": 1,
   "id": "bfbb6bd7-4187-4623-9fba-022c8f46dc36",
   "metadata": {},
   "outputs": [],
   "source": [
    "from huggingface_hub import list_datasets\n",
    "import pandas as pd\n",
    "from tqdm import tqdm"
   ]
  },
  {
   "cell_type": "code",
   "execution_count": 2,
   "id": "f66c06ad-53dc-4c3c-b0de-fdf86befa695",
   "metadata": {},
   "outputs": [],
   "source": [
    "def collect_arabic_datasets_with_tasks():\n",
    "\n",
    "    # Convert generator to list to use len()\n",
    "    datasets = list(list_datasets(\n",
    "        filter=\"language:ar\",\n",
    "        full=True,\n",
    "        sort=\"downloads\"\n",
    "    ))\n",
    "    \n",
    "    total_count = len(datasets)\n",
    "    print(f\" Total Arabic datasets found: {total_count}\")\n",
    "\n",
    "    filtered_data = []\n",
    "    no_task_count = 0\n",
    "\n",
    "    for ds in tqdm(datasets, desc=\"Filtering datasets\"):\n",
    "        card = ds.cardData or {}\n",
    "        task_ids = card.get(\"task_ids\")\n",
    "        task_categories = card.get(\"task_categories\")\n",
    "\n",
    "        # Exclude if no task OR only task is 'other'\n",
    "        has_valid_task = (\n",
    "            (task_ids or task_categories) and\n",
    "            not (task_categories == [\"other\"])\n",
    "        )\n",
    "\n",
    "        if has_valid_task:\n",
    "            filtered_data.append({\n",
    "                \"Dataset ID\": ds.id,\n",
    "                \"Language\": \"ar\",\n",
    "                \"Task Categories\": task_categories\n",
    "            })\n",
    "        else:\n",
    "            no_task_count += 1\n",
    "\n",
    "    with_task_count = len(filtered_data)\n",
    "\n",
    "    print(f\" Arabic datasets with valid tasks: {with_task_count}\")\n",
    "    print(f\" Arabic datasets without tasks: {no_task_count}\")\n",
    "\n",
    "    df = pd.DataFrame(filtered_data)\n",
    "    return df"
   ]
  },
  {
   "cell_type": "code",
   "execution_count": 3,
   "id": "b32620fd-07c6-4b12-855e-68f2ac65ef7f",
   "metadata": {},
   "outputs": [
    {
     "name": "stdout",
     "output_type": "stream",
     "text": [
      " Collecting Arabic datasets from Hugging Face...\n",
      " Total Arabic datasets found: 1219\n"
     ]
    },
    {
     "name": "stderr",
     "output_type": "stream",
     "text": [
      "Filtering datasets: 100%|███████████████████████████████████████████████████████| 1219/1219 [00:00<00:00, 420638.14it/s]"
     ]
    },
    {
     "name": "stdout",
     "output_type": "stream",
     "text": [
      " Arabic datasets with valid tasks: 878\n",
      " Arabic datasets without tasks: 341\n"
     ]
    },
    {
     "name": "stderr",
     "output_type": "stream",
     "text": [
      "\n"
     ]
    },
    {
     "data": {
      "text/html": [
       "<div>\n",
       "<style scoped>\n",
       "    .dataframe tbody tr th:only-of-type {\n",
       "        vertical-align: middle;\n",
       "    }\n",
       "\n",
       "    .dataframe tbody tr th {\n",
       "        vertical-align: top;\n",
       "    }\n",
       "\n",
       "    .dataframe thead th {\n",
       "        text-align: right;\n",
       "    }\n",
       "</style>\n",
       "<table border=\"1\" class=\"dataframe\">\n",
       "  <thead>\n",
       "    <tr style=\"text-align: right;\">\n",
       "      <th></th>\n",
       "      <th>Dataset ID</th>\n",
       "      <th>Language</th>\n",
       "      <th>Task Categories</th>\n",
       "    </tr>\n",
       "  </thead>\n",
       "  <tbody>\n",
       "    <tr>\n",
       "      <th>0</th>\n",
       "      <td>allenai/c4</td>\n",
       "      <td>ar</td>\n",
       "      <td>[text-generation, fill-mask]</td>\n",
       "    </tr>\n",
       "  </tbody>\n",
       "</table>\n",
       "</div>"
      ],
      "text/plain": [
       "   Dataset ID Language               Task Categories\n",
       "0  allenai/c4       ar  [text-generation, fill-mask]"
      ]
     },
     "execution_count": 3,
     "metadata": {},
     "output_type": "execute_result"
    }
   ],
   "source": [
    "df_arabic = collect_arabic_datasets_with_tasks()\n",
    "df_arabic.head(1)"
   ]
  }
 ],
 "metadata": {
  "kernelspec": {
   "display_name": "Python (base)",
   "language": "python",
   "name": "base"
  },
  "language_info": {
   "codemirror_mode": {
    "name": "ipython",
    "version": 3
   },
   "file_extension": ".py",
   "mimetype": "text/x-python",
   "name": "python",
   "nbconvert_exporter": "python",
   "pygments_lexer": "ipython3",
   "version": "3.13.5"
  }
 },
 "nbformat": 4,
 "nbformat_minor": 5
}
