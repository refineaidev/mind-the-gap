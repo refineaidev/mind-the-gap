{
 "cells": [
  {
   "cell_type": "code",
   "execution_count": 1,
   "id": "8a9ec6bb-62ef-4051-afe2-b71b4ca11445",
   "metadata": {},
   "outputs": [
    {
     "name": "stdout",
     "output_type": "stream",
     "text": [
      "Available Categories:\n",
      " - Q&A\n",
      " - Reasoning & Multi-step Thinking\n",
      " - Summarization\n",
      " - Cultural Alignment\n",
      " - Dialog/Conversation\n",
      " - Personal Ownership/System Prompt\n",
      " - Robustness & Safety\n",
      " - Function Call\n",
      " - Ethics, Bias, and Fairness\n",
      " - Code Generation\n",
      " - Official Documentation\n",
      " - Translation\n"
     ]
    }
   ],
   "source": [
    "!python script.py --list"
   ]
  },
  {
   "cell_type": "code",
   "execution_count": 2,
   "id": "cb948ff1-a72d-47b6-96fc-e8123a37e605",
   "metadata": {},
   "outputs": [
    {
     "name": "stdout",
     "output_type": "stream",
     "text": [
      "Processing category: Summarization ...\n",
      "             Task                                         Dataset ID  Likes  ...                                        README file README Quality Level README Quality Score\n",
      "0   Summarization                               esdurmus/wiki_lingua     49  ...  ---\\nannotations_creators:\\n- crowdsourced\\nla...                 High                    5\n",
      "1   Summarization                                      espnet/floras     11  ...  ---\\nlicense: cc-by-3.0\\ndataset_info:\\n- conf...               Medium                    2\n",
      "2   Summarization                                    microsoft/xglue     26  ...  ---\\nannotations_creators:\\n- crowdsourced\\n- ...                 High                    6\n",
      "3   Summarization                                    GEM/wiki_lingua     50  ...  ---\\nannotations_creators:\\n- none\\nlanguage_c...                 High                    5\n",
      "4   Summarization                                          GEM/xlsum      5  ...  ---\\nannotations_creators:\\n- none\\nlanguage_c...                 High                    5\n",
      "5   Summarization                                   csebuetnlp/xlsum    143  ...  ---\\nannotations_creators:\\n- found\\nlanguage_...                 High                    5\n",
      "6   Summarization                                csebuetnlp/CrossSum     14  ...  ---\\ntask_categories:\\n- summarization\\ntask_i...                 High                    5\n",
      "7   Summarization                    deliadumitrescu/disinfo22-small      2  ...  ---\\nlicense: cc-by-4.0\\ntask_categories:\\n- f...                  Low                    1\n",
      "8   Summarization                                    hltcoe/megawika     40  ...  ---\\nlicense: cc-by-sa-4.0\\ntask_categories:\\n...                 High                    5\n",
      "9   Summarization              Abdelkareem/arabic_summarization_text      0  ...  ---\\ntask_categories:\\n- summarization\\nlangua...                  Low                    0\n",
      "10  Summarization                                         Ezell/test      0  ...  ---\\nlicense: apache-2.0\\ntask_categories:\\n- ...                  Low                    1\n",
      "11  Summarization  crystalai/autotrain-data-crystal_alchemist-vision      1  ...                                               none                  Low                    0\n",
      "12  Summarization                alielfilali01/Hindawi-Books-dataset     12  ...  ---\\ndataset_info:\\n  features:\\n  - name: Boo...                 High                    5\n",
      "13  Summarization                                    PetraAI/PetraAI     21  ...  ---\\nlicense: apache-2.0\\ntask_categories:\\n- ...                 High                    5\n",
      "14  Summarization                   M-A-D/Mixed-Arabic-Datasets-Repo     34  ...  ---\\nlanguage:\\n- ar\\nsize_categories:\\n- 1B<n...                 High                    6\n",
      "15  Summarization                mohamedemam/Arabic-samsum-dialogsum      1  ...  ---\\ndataset_info:\\n  features:\\n  - name: ind...                 High                    5\n",
      "16  Summarization                    alielfilali01/Goud-Sum-Instruct      0  ...  ---\\nconfigs:\\n- config_name: default\\n  data_...                 High                    5\n",
      "17  Summarization                       Amina-Chouigui/ANTCorpusv2.1      1  ...  ---\\ntask_categories:\\n- text-classification\\n...                  Low                    1\n",
      "18  Summarization                    M-A-D/Mixed-Arabic-Dataset-Main      6  ...  ---\\nlanguage:\\n- ar\\ntask_categories:\\n- conv...               Medium                    3\n",
      "19  Summarization                              FahdSeddik/AGS-Corpus      7  ...  ---\\nlicense: cc-by-nc-4.0\\ntask_categories:\\n...               Medium                    3\n",
      "20  Summarization                                   PeepDaSlan9/DIDI      2  ...  ---\\nlicense: apache-2.0\\ntask_categories:\\n- ...                  Low                    1\n",
      "21  Summarization                  hltcoe/megawika-report-generation      6  ...  ---\\nlicense: cc-by-sa-4.0\\ntask_categories:\\n...                 High                    5\n",
      "22  Summarization                                    2A2I/Arabic_Aya     14  ...  ---\\nlanguage:\\n- ar\\nlicense: apache-2.0\\nsiz...                 High                    6\n",
      "23  Summarization                                     forresty/xglue      2  ...  ---\\nannotations_creators:\\n- crowdsourced\\n- ...                 High                    6\n",
      "24  Summarization                                      Mouwiya/SANAD      1  ...  ---\\ndataset_info:\\n  features:\\n  - name: tex...                  Low                    1\n",
      "25  Summarization                  Mohamed-Sami/cleaned_xlsum_arabic      0  ...  ---\\ndataset_info:\\n  features:\\n  - name: sum...                  Low                    1\n",
      "26  Summarization                          Mohamedfadil369/BrainData      1  ...  ---\\nlicense: apache-2.0\\ntask_categories:\\n- ...                 High                    4\n",
      "27  Summarization                           ClusterlabAi/InstAr-500k     14  ...  ---\\nlanguage:\\n- ar\\nlicense: apache-2.0\\nsiz...                 High                    4\n",
      "28  Summarization                              Washedashore/thepower      2  ...  ---\\nlicense: apache-2.0\\ntask_categories:\\n- ...                 High                    4\n",
      "29  Summarization                         bushra1dajam/news_articles      2  ...  ---\\nlicense: unknown\\ntask_categories:\\n- tex...               Medium                    2\n",
      "30  Summarization                          faisaltareque/XL-HeadTags      3  ...  ---\\ndataset_info:\\n  features:\\n  - name: ID\\...                 High                    5\n",
      "31  Summarization                               data-silence/sumnews      2  ...  ---\\nlanguage:\\n- am\\n- ar\\n- az\\n- bn\\n- my\\n...               Medium                    3\n",
      "32  Summarization                    1-800-SHARED-TASKS/xlsum-subset      0  ...  ---\\nannotations_creators:\\n- found\\nlanguage_...                 High                    5\n",
      "33  Summarization                           YoussefAnwar/Arabic-news      1  ...  ---\\nlanguage:\\n- ar\\nmultilinguality:\\n- mono...               Medium                    2\n",
      "34  Summarization                                    dijihax/Dataset      2  ...  ---\\nlicense: apache-2.0\\ntask_categories:\\n- ...                 High                    4\n",
      "35  Summarization              kingkaung/islamqainfo_parallel_corpus      0  ...  ---\\nlicense: cc-by-nc-4.0\\ntask_categories:\\n...                 High                    6\n",
      "36  Summarization                    ZoneTwelve/multilingual-stories      0  ...  ---\\nlanguage: \\n  - fr  # French\\n  - it  # I...               Medium                    2\n",
      "37  Summarization               unieai/multilingual-stories-original      2  ...  ---\\nlanguage: \\n  - fr  # French\\n  - it  # I...               Medium                    2\n",
      "38  Summarization                                      YuRiVeRTi/V1Q      3  ...  ---\\nlicense: apache-2.0\\ntask_categories:\\n- ...                  Low                    1\n",
      "39  Summarization                             aliahabeeb/usul-alkafi      0  ...  ---\\nlicense: mit\\ntask_categories:\\n  - text-...               Medium                    3\n",
      "40  Summarization                               lenoxaugo254/LenoxAI      1  ...  ---\\ntask_categories:\\n- text-classification\\n...                  Low                    0\n",
      "41  Summarization                    silma-ai/arabic-broad-benchmark      6  ...  ---\\nlicense: apache-2.0\\ntask_categories:\\n- ...                 High                    6\n",
      "42  Summarization             EMINES/summarized-darija-msa-wiki-data      1  ...  ---\\nlanguage:\\n- ar\\n\\nlicense: apache-2.0\\nt...                 High                    6\n",
      "43  Summarization                    ademchaoua/darja-en-translation      1  ...  ---\\nlicense: mit\\ntask_categories:\\n- transla...                  Low                    1\n",
      "44  Summarization                              Groovy-123/deep-think      1  ...  ---\\nlicense: other\\nlicense_name: nexgen\\nlic...                  Low                    1\n",
      "45  Summarization                                trais-lab/DCA-Bench      2  ...  ---\\nlicense: apache-2.0\\ntask_categories:\\n- ...                 High                    5\n",
      "46  Summarization       karimraouf/Arabic-Summarization-Dataset-AsDs      2  ...  ---\\nlicense: mit\\ntask_categories:\\n- summari...                 High                    4\n",
      "47  Summarization                                fatmaserry/SummARai      0  ...  ---\\nlicense: apache-2.0\\ntask_categories:\\n- ...               Medium                    2\n",
      "48  Summarization              tunis-ai/tunisian-msa-parallel-corpus      0  ...  ---\\ntask_categories:\\n- translation\\n- text-g...                 High                    5\n",
      "\n",
      "[49 rows x 17 columns]\n",
      "Data saved to Summarization.csv\n"
     ]
    }
   ],
   "source": [
    "!python script.py -c \"Summarization\" --save"
   ]
  },
  {
   "cell_type": "code",
   "execution_count": 3,
   "id": "7e5ecdcf-4bcc-4c9b-b3b9-a9800f818606",
   "metadata": {},
   "outputs": [
    {
     "name": "stdout",
     "output_type": "stream",
     "text": [
      "Processing category: Reasoning & Multi-step Thinking ...\n",
      "\n",
      "No data found for category 'Reasoning & Multi-step Thinking', trying keyword search fallback...\n",
      "                                          Dataset ID  Likes  Downloads  ...                                        README file README Quality Level  README Quality Score\n",
      "0                 MohammedNasser/ARabic_Reasoning_QA      5         16  ...  ---\\nlanguage:\\n- ar\\nlicense: apache-2.0\\nsiz...                 High                     6\n",
      "1        MohammedNasser/Arabic_Reasoning_Instruct_QA      2          8  ...  ---\\nlanguage:\\n- ar\\nlicense: apache-2.0\\nsiz...               Medium                     2\n",
      "2  Omartificial-Intelligence-Space/Arabic_Reasoni...      9         52  ...  ---\\ndataset_info:\\n  features:\\n  - name: ins...                 High                     4\n",
      "3  lightblue/reasoning-multilingual-R1-Llama-70B-...     36        145  ...  ---\\ndataset_info:\\n  features:\\n  - name: en_...               Medium                     3\n",
      "4        Jr23xd23/Arabic-Optimized-Reasoning-Dataset      2         13  ...  ---\\nlicense: apache-2.0\\ntask_categories:\\n- ...                 High                     5\n",
      "5     Pinkstack/OpenHumanreasoning-multilingual-2.2k      2         11  ...  ---\\nlicense: apache-2.0\\nlanguage:\\n- ar\\n- z...                  Low                     1\n",
      "6        miscovery/Math_CoT_Arabic_English_Reasoning     16         27  ...  ---\\nlicense: mit\\ntask_categories:\\n- questio...                 High                     6\n",
      "7          beetleware/arabic-reasoning-dataset-logic     11         82  ...  ---\\nlanguage: ar\\nlicense: mit # أو الترخيص ا...               Medium                     3\n",
      "\n",
      "[8 rows x 16 columns]\n"
     ]
    }
   ],
   "source": [
    "!python script.py -c \"Reasoning & Multi-step Thinking\""
   ]
  },
  {
   "cell_type": "code",
   "execution_count": 4,
   "id": "82ad3959-829b-41bb-b615-d85fdc56457a",
   "metadata": {},
   "outputs": [
    {
     "name": "stdout",
     "output_type": "stream",
     "text": [
      "Processing category: Code Generation ...\n",
      "\n",
      "No data found for category 'Code Generation', trying keyword search fallback...\n",
      "\n",
      " No data found for keywords fallback for category 'Code Generation'.\n",
      "\n",
      " No data found for the category 'Code Generation'.\n"
     ]
    }
   ],
   "source": [
    "!python script.py --category 'Code Generation' "
   ]
  }
 ],
 "metadata": {
  "kernelspec": {
   "display_name": "Python (base)",
   "language": "python",
   "name": "base"
  },
  "language_info": {
   "codemirror_mode": {
    "name": "ipython",
    "version": 3
   },
   "file_extension": ".py",
   "mimetype": "text/x-python",
   "name": "python",
   "nbconvert_exporter": "python",
   "pygments_lexer": "ipython3",
   "version": "3.13.5"
  }
 },
 "nbformat": 4,
 "nbformat_minor": 5
}
