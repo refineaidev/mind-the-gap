{
 "cells": [
  {
   "cell_type": "code",
   "execution_count": 1,
   "id": "efa6b4c9-1c06-4005-a206-7886bdba2c35",
   "metadata": {},
   "outputs": [
    {
     "name": "stdout",
     "output_type": "stream",
     "text": [
      "\n",
      "documentation_annotation_level Counts:\n",
      "documentation_annotation_level\n",
      "High      28\n",
      "Medium    18\n",
      "Low        3\n",
      "Name: count, dtype: int64\n",
      "\n",
      "popularity_level Counts:\n",
      "popularity_level\n",
      "Low       31\n",
      "High      13\n",
      "Medium     5\n",
      "Name: count, dtype: int64\n",
      "\n",
      "adoption_level Counts:\n",
      "adoption_level\n",
      "Low     48\n",
      "High     1\n",
      "Name: count, dtype: int64\n",
      "\n",
      "recency_maintenance_level Counts:\n",
      "recency_maintenance_level\n",
      "Low       27\n",
      "High      13\n",
      "Medium     9\n",
      "Name: count, dtype: int64\n",
      "\n",
      "licensing_transparency_level Counts:\n",
      "licensing_transparency_level\n",
      "High      37\n",
      "Low        8\n",
      "Medium     4\n",
      "Name: count, dtype: int64\n",
      "\n",
      "scientific_contribution_level Counts:\n",
      "scientific_contribution_level\n",
      "Low       39\n",
      "Medium     6\n",
      "High       4\n",
      "Name: count, dtype: int64\n",
      "\n",
      "✅ Evaluation completed. Results saved to Summarization_evaluated.csv\n"
     ]
    }
   ],
   "source": [
    "!python evals.py --file Summarization.csv --eval all --save"
   ]
  },
  {
   "cell_type": "code",
   "execution_count": 2,
   "id": "38c45a6a-8136-4a04-8c2a-154f2a24eeec",
   "metadata": {},
   "outputs": [
    {
     "name": "stdout",
     "output_type": "stream",
     "text": [
      "\n",
      "popularity_level Counts:\n",
      "popularity_level\n",
      "Low       31\n",
      "High      13\n",
      "Medium     5\n",
      "Name: count, dtype: int64\n"
     ]
    }
   ],
   "source": [
    "!python evals.py --file Summarization.csv --eval popularity_level "
   ]
  }
 ],
 "metadata": {
  "kernelspec": {
   "display_name": "Python (base)",
   "language": "python",
   "name": "base"
  },
  "language_info": {
   "codemirror_mode": {
    "name": "ipython",
    "version": 3
   },
   "file_extension": ".py",
   "mimetype": "text/x-python",
   "name": "python",
   "nbconvert_exporter": "python",
   "pygments_lexer": "ipython3",
   "version": "3.13.5"
  }
 },
 "nbformat": 4,
 "nbformat_minor": 5
}
